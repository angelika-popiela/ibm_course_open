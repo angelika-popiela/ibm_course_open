{
 "cells": [
  {
   "cell_type": "markdown",
   "id": "1330566a-6396-4226-9575-dd2eeaffe64b",
   "metadata": {},
   "source": [
    "# Data Science Tools and Ecosystem"
   ]
  },
  {
   "cell_type": "markdown",
   "id": "c7b6770c-34dd-43f0-a44a-8a71f26ad5fe",
   "metadata": {},
   "source": [
    "## In this notebook, Data Science Tools and Ecosystem are summarized."
   ]
  },
  {
   "cell_type": "markdown",
   "id": "8a2514b5-2e89-4a6f-abe4-2b95f36294a0",
   "metadata": {},
   "source": [
    "**Objectives:**"
   ]
  },
  {
   "cell_type": "markdown",
   "id": "b494fdf9-ca06-4af7-afb9-09511d359567",
   "metadata": {},
   "source": [
    "- indication of the popular languages used in Data Science,\n",
    "- indication of the commonly used libraries in Data Science,\n",
    "- list of Data Science Tools,\n",
    "- few arithmetic expressions insertion."
   ]
  },
  {
   "cell_type": "markdown",
   "id": "76fe94fa-d740-433b-939b-f2e5b0d573b6",
   "metadata": {},
   "source": [
    "## Author"
   ]
  },
  {
   "cell_type": "markdown",
   "id": "23e9bf5c-f7e2-4cb3-a0d7-84806aab8d78",
   "metadata": {},
   "source": [
    "Angelika"
   ]
  },
  {
   "cell_type": "markdown",
   "id": "5f6be168-5e09-461d-a586-05aaacdcbdd9",
   "metadata": {},
   "source": [
    "### Some of the popular languages that Data Scientists use are:\n",
    "1. Python\n",
    "2. R\n",
    "3. C++\n",
    "4. Scala\n",
    "5. SQL"
   ]
  },
  {
   "cell_type": "markdown",
   "id": "a88e82a4-d63a-4130-a7bb-674e59a994b0",
   "metadata": {},
   "source": [
    "## Some of the commonly used libraries used by Data Scientists include:\n",
    "1. Pandas\n",
    "2. NumPy\n",
    "2. Matplotlib\n",
    "3. Scikit-learn\n",
    "4. TensorFlow"
   ]
  },
  {
   "cell_type": "markdown",
   "id": "7951c6a1-4512-4346-88b0-2c6ab94851cb",
   "metadata": {},
   "source": [
    "| Data Science Tools |\n",
    "| ------------------|\n",
    "| Jupyter Notebook |\n",
    "| Visual Studio Code |\n",
    "| RStudio |\n"
   ]
  },
  {
   "cell_type": "markdown",
   "id": "e578d6bd-8119-490e-8827-70f5bd6490b6",
   "metadata": {},
   "source": [
    "### Below are a few examples of evaluating arithmetic expressions in Python."
   ]
  },
  {
   "cell_type": "markdown",
   "id": "f0631acf-314a-4e0f-8844-0e693d1b0de3",
   "metadata": {},
   "source": [
    "This a simple arithmetic expression to mutiply then add integers:"
   ]
  },
  {
   "cell_type": "code",
   "execution_count": 1,
   "id": "64f0d655-a26f-4fa2-9714-574e358efc57",
   "metadata": {
    "tags": []
   },
   "outputs": [
    {
     "data": {
      "text/plain": [
       "17"
      ]
     },
     "execution_count": 1,
     "metadata": {},
     "output_type": "execute_result"
    }
   ],
   "source": [
    "(3*4)+5"
   ]
  },
  {
   "cell_type": "markdown",
   "id": "7319e2f7-aa39-4d65-8fbc-2e7aeaf9ba3c",
   "metadata": {},
   "source": [
    "This will convert 200 minutes to hours by diving by 60"
   ]
  },
  {
   "cell_type": "code",
   "execution_count": 2,
   "id": "fccfdc8f-7b44-4131-9317-5102ebf01f7c",
   "metadata": {
    "tags": []
   },
   "outputs": [
    {
     "data": {
      "text/plain": [
       "3.3333333333333335"
      ]
     },
     "execution_count": 2,
     "metadata": {},
     "output_type": "execute_result"
    }
   ],
   "source": [
    "200/60"
   ]
  },
  {
   "cell_type": "code",
   "execution_count": null,
   "id": "06382ef1-6cc1-4064-b49b-319839482b5f",
   "metadata": {},
   "outputs": [],
   "source": []
  }
 ],
 "metadata": {
  "kernelspec": {
   "display_name": "Python",
   "language": "python",
   "name": "conda-env-python-py"
  },
  "language_info": {
   "codemirror_mode": {
    "name": "ipython",
    "version": 3
   },
   "file_extension": ".py",
   "mimetype": "text/x-python",
   "name": "python",
   "nbconvert_exporter": "python",
   "pygments_lexer": "ipython3",
   "version": "3.7.12"
  }
 },
 "nbformat": 4,
 "nbformat_minor": 5
}
